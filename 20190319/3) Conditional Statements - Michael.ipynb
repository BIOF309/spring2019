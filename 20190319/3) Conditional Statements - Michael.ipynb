{
 "cells": [
  {
   "cell_type": "markdown",
   "metadata": {},
   "source": [
    "# Conditional Statements\n",
    "### March 19th, 2019\n",
    "### Michael Chambers\n",
    "---\n",
    "### Outline\n",
    "* Conditional Statements\n",
    "* Final Exercise: Making a Magic 8-Ball function\n",
    "---"
   ]
  },
  {
   "cell_type": "markdown",
   "metadata": {},
   "source": [
    "\n",
    "Conditional statements are used in code to do different things based on the condition of a variable.  This allows you to do different things based on different input.  Conditional statements are tested once and they run in the order that they are written.\n",
    "\n",
    "Types of conditional statements:\n",
    "- **\"if\"** - use to check if a condition is true, then runs indented block of code\n",
    "- **\"elif\"** - must follow an \"if\" statement, if the above \"if\" statement is false, the \"elif\" statement will be checked\n",
    "- **\"else\"** - must follow an \"if\" or \"elif\" statement, used as a catch-all if none of the above statements are found to be true\n",
    "\n",
    "Example of a conditional statement:\n",
    "```\n",
    "x = 50\n",
    "if x > 50:\n",
    "    print('x is greater than 50')\n",
    "elif x < 50:\n",
    "    print('x is less than 50')\n",
    "else:\n",
    "    print('x is equal to 50')\n",
    "\n",
    "```\n",
    "\n",
    "Constructing a conditional statement:\n",
    "- start with one of the three condition types (if, elif, else)\n",
    "- for \"if\" and \"elif\", write a statement using operators that checks the condition of a variable\n",
    "- the first line of a conditional statement ends in a colon (\":\")\n",
    "- the action for the condition is indented (4 spaces)\n",
    "    - i.e. indented code runs when the condition is found to be true"
   ]
  },
  {
   "cell_type": "code",
   "execution_count": null,
   "metadata": {},
   "outputs": [],
   "source": [
    "# check the example conditional statements\n"
   ]
  },
  {
   "cell_type": "code",
   "execution_count": null,
   "metadata": {
    "collapsed": true
   },
   "outputs": [],
   "source": [
    "# write a conditional statement that is True\n",
    "if True:\n",
    "    print('The condition is True!')"
   ]
  },
  {
   "cell_type": "code",
   "execution_count": null,
   "metadata": {
    "collapsed": true
   },
   "outputs": [],
   "source": [
    "# now add an \"else\" statement as a catch-all for when the \n",
    "# above condition is not found to be true\n",
    "\n",
    "x = True\n",
    "if x:\n",
    "    print('The condition is True!')\n",
    "else:\n",
    "    print('Oh dear, the condition is not True')"
   ]
  },
  {
   "cell_type": "code",
   "execution_count": null,
   "metadata": {},
   "outputs": [],
   "source": [
    "# retry the above coditional state with different values for \"x\"\n"
   ]
  },
  {
   "cell_type": "markdown",
   "metadata": {},
   "source": [
    "### You can use operators in your conditional statements to check the condition of a variable"
   ]
  },
  {
   "cell_type": "code",
   "execution_count": null,
   "metadata": {
    "collapsed": true
   },
   "outputs": [],
   "source": [
    "# create a variable called \"water_temperature\" and assign a value\n",
    "water_temperature = -1\n",
    "\n",
    "# use a conditional statement to determine if water is boiling\n",
    "if water_temperature > 100:\n",
    "    print('Boiling!')"
   ]
  },
  {
   "cell_type": "code",
   "execution_count": null,
   "metadata": {
    "collapsed": true
   },
   "outputs": [],
   "source": [
    "# use two conditional statements to determine if water is boiling or not\n",
    "if water_temperature > 100:\n",
    "    print('Boiling!')\n",
    "else:\n",
    "    print('Not boiling!')"
   ]
  },
  {
   "cell_type": "code",
   "execution_count": null,
   "metadata": {
    "collapsed": true
   },
   "outputs": [],
   "source": [
    "# change variable value to -5\n",
    "# use three conditional statements to determine the physical state of water\n",
    "water_temperature = -5\n",
    "if water_temperature > 100:\n",
    "    print('Boiling!')\n",
    "elif water_temperature > 0:\n",
    "    print('Liquid!')\n",
    "else:\n",
    "    print('Solid!')"
   ]
  },
  {
   "cell_type": "markdown",
   "metadata": {},
   "source": [
    "---\n",
    "### You can break-up conditional statements to recheck a variable\n",
    "Remember, if a variable should changes after it has been checked Python does not \"go back\" to check it's condition because the code is executed linearly.\n",
    "\n",
    "---"
   ]
  },
  {
   "cell_type": "code",
   "execution_count": null,
   "metadata": {},
   "outputs": [],
   "source": [
    "# set variable \"a\" equal to 1\n",
    "a = 1\n",
    "\n",
    "# check if \"a\" equals 1\n",
    "if a == 1:\n",
    "    print(\"Variable is equal to 1!\")\n",
    "else:\n",
    "    print(\"Whoa man, that variable does NOT equal 1.\")\n",
    "\n",
    "# change the value of variable \"a\"\n",
    "# quiz: what does the \"+=\" operator do to the variable?\n",
    "a += 1\n",
    "\n",
    "# check again if \"a\" equals 1\n",
    "if a == 1:\n",
    "    print(\"Variable is equal to 1!\")\n",
    "else:\n",
    "    print(\"Whoa man, that variable does NOT equal 1.\")"
   ]
  },
  {
   "cell_type": "markdown",
   "metadata": {},
   "source": [
    "---\n",
    "### What's the difference between using \"if\" and \"elif\"?\n",
    "You can use multiple \"if\" statements and the condition will be repeatedly checked.\n",
    "\n",
    "---"
   ]
  },
  {
   "cell_type": "code",
   "execution_count": null,
   "metadata": {},
   "outputs": [],
   "source": [
    "%%timeit\n",
    "\n",
    "a = 1\n",
    "b = 2\n",
    "c = 3\n",
    "\n",
    "greatest = a # choose any variable (a, b, or c)\n",
    "\n",
    "if a > greatest:\n",
    "    greatest = a\n",
    "if b > greatest:\n",
    "    greatest = b\n",
    "if c > greatest:\n",
    "    greatest = c"
   ]
  },
  {
   "cell_type": "markdown",
   "metadata": {},
   "source": [
    "---\n",
    "If the condtion you are testing is mutually exclusive, you can use \"elif\" and \"else\" to chain your conditional statements together.  \n",
    "\n",
    "---"
   ]
  },
  {
   "cell_type": "code",
   "execution_count": null,
   "metadata": {},
   "outputs": [],
   "source": [
    "%%timeit\n",
    "\n",
    "a = 1\n",
    "b = 2\n",
    "c = 3\n",
    "\n",
    "greatest = a # choose any variable (a, b, or c)\n",
    "\n",
    "if a > greatest:\n",
    "    greatest = a\n",
    "elif b > greatest:\n",
    "    greatest = b\n",
    "else:\n",
    "    greatest = c"
   ]
  },
  {
   "cell_type": "markdown",
   "metadata": {},
   "source": [
    "### Conditional statements can be nested with indentation\n",
    "Yes, you can nest conditional statements, but don't get too carried away!  Remember: *Flat is better than nested.*"
   ]
  },
  {
   "cell_type": "code",
   "execution_count": null,
   "metadata": {},
   "outputs": [],
   "source": [
    "water_temperature = -5\n",
    "if water_temperature > 100:\n",
    "    print('Boiling!')\n",
    "elif water_temperature > 0:\n",
    "    print('Liquid!')\n",
    "    if water_temperature == 40:\n",
    "        print(\"And it's the perfect temperature!\")\n",
    "else:\n",
    "    print('Solid!')"
   ]
  },
  {
   "cell_type": "markdown",
   "metadata": {},
   "source": [
    "# Final Exercise\n",
    "---\n",
    "Let's enhance that \"[Magic 8-Ball](https://en.wikipedia.org/wiki/Magic_8-Ball)\" function that we started at the top of the class:\n",
    "* Your function will take a single string input\n",
    "* Your function will return a message based on the length of the string input\n",
    "    * Your function should return a minimum of six unique messages\n",
    "    * Use a combination of conditional statements and operators to determine the message output\n",
    "    * HINT: You can use the \"len()\" function to determine the length of the string input\n",
    "* Don't forget to add some documentation\n",
    "\n",
    "BONUS POINTS:\n",
    "* Check that the input is a string (and not something else like an integer or float)\n",
    "* Check that the input contains a question mark (\"?\")\n",
    "* If no input is provided, prompt the user for input (check out the \"input()\" function)\n",
    "* Add a conditional statement that checks for an exact string match and returns a unique message for that specific string input\n",
    "* Check that a single input was provided to the function\n",
    "* Post your Magic 8-ball function on GitHub or Slack and have your neighbor try it out!\n",
    "\n",
    "MEGA BONUS POINTS:\n",
    "* Run your magic 8-ball function from the command line as a .py script\n",
    "* Incorporate [argparse](https://docs.python.org/3.3/library/argparse.html) into your script to guide usage and handle the input\n",
    "* Try incorporating [Function Annotations](https://www.python.org/dev/peps/pep-3107/) into your magic 8-ball function to improve usability"
   ]
  },
  {
   "cell_type": "code",
   "execution_count": null,
   "metadata": {
    "collapsed": true
   },
   "outputs": [],
   "source": [
    "# here's an example\n",
    "def mikes_magic_8(x):\n",
    "    \"\"\"This is my magic 8 ball function\n",
    "    \n",
    "    Args:\n",
    "        x (str): the question\n",
    "    \n",
    "    Returns:\n",
    "        str: a prediction to your inquiry\n",
    "    \"\"\"\n",
    "    if len(x) < 4:\n",
    "        return \"I'm gonna say no on this one\"\n",
    "    \n",
    "    if x == \"cheese?\":\n",
    "        return \"Yes PLEASE!\""
   ]
  },
  {
   "cell_type": "code",
   "execution_count": null,
   "metadata": {},
   "outputs": [],
   "source": [
    "mikes_magic_8(\"cheese?\")"
   ]
  },
  {
   "cell_type": "code",
   "execution_count": null,
   "metadata": {
    "collapsed": true
   },
   "outputs": [],
   "source": [
    "# you can copy and paste your previous magic 8-ball function and start modifying it here\n"
   ]
  }
 ],
 "metadata": {
  "kernelspec": {
   "display_name": "Python 3",
   "language": "python",
   "name": "python3"
  },
  "language_info": {
   "codemirror_mode": {
    "name": "ipython",
    "version": 3
   },
   "file_extension": ".py",
   "mimetype": "text/x-python",
   "name": "python",
   "nbconvert_exporter": "python",
   "pygments_lexer": "ipython3",
   "version": "3.7.1"
  }
 },
 "nbformat": 4,
 "nbformat_minor": 2
}
