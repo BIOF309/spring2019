{
 "cells": [
  {
   "cell_type": "markdown",
   "metadata": {},
   "source": [
    "# Lesson 7: Boolean and Conditional Statements\n",
    "### March 19th, 2019\n",
    "### Jinping Liu & Michael Chambers\n",
    "---\n",
    "### Outline\n",
    "* Intro to Jupyter Notebooks\n",
    "* Review Exercise: Defining Functions\n",
    "* Boolean\n",
    "* Conditional Statements\n",
    "* Final Exercise: Returning to the Magic 8-Ball function\n",
    "\n",
    "### Resources\n",
    "* [Quick starting guide to Jupyter Notebooks](https://www.youtube.com/watch?v=DPi6CAkUUPY)\n",
    "* [Top 5 Magic Commands for Jupyter Notebooks](https://towardsdatascience.com/the-top-5-magic-commands-for-jupyter-notebooks-2bf0c5ae4bb8)\n",
    "* [Write Better Python Functions - Jeff Knupp](https://jeffknupp.com/blog/2018/10/11/write-better-python-functions//)\n",
    "* [Understanding Boolean Logic in Python 3](https://www.digitalocean.com/community/tutorials/understanding-boolean-logic-in-python-3)"
   ]
  },
  {
   "cell_type": "markdown",
   "metadata": {},
   "source": [
    "# Jupyter Notebooks\n",
    "---\n",
    "* Incredible resource and tool for data science\n",
    "* Offers a reproducible environment that tells a story\n",
    "* It's also a great sandbox environment to learn Python\n",
    "\n",
    "```print('this is not a coding cell')```"
   ]
  },
  {
   "cell_type": "code",
   "execution_count": null,
   "metadata": {},
   "outputs": [],
   "source": [
    "print('but this IS a coding cell')"
   ]
  },
  {
   "cell_type": "code",
   "execution_count": null,
   "metadata": {},
   "outputs": [],
   "source": [
    "# a lovely first step...\n",
    "import this"
   ]
  },
  {
   "cell_type": "code",
   "execution_count": null,
   "metadata": {},
   "outputs": [],
   "source": [
    "# run a code cell\n",
    "2 + 2"
   ]
  },
  {
   "cell_type": "code",
   "execution_count": null,
   "metadata": {},
   "outputs": [],
   "source": [
    "# we can create a variable called \"x\"\n",
    "x = 2 + 2"
   ]
  },
  {
   "cell_type": "code",
   "execution_count": null,
   "metadata": {},
   "outputs": [],
   "source": [
    "# that variable refers to the value set it to\n",
    "x"
   ]
  },
  {
   "cell_type": "code",
   "execution_count": null,
   "metadata": {},
   "outputs": [],
   "source": [
    "# and we can check the type of that variable\n",
    "type(x)"
   ]
  },
  {
   "cell_type": "code",
   "execution_count": null,
   "metadata": {},
   "outputs": [],
   "source": [
    "# run code cells out of order\n",
    "\n",
    "# change the variable \"x\" from an integer to a string\n",
    "x = 'two'\n",
    "print(x)"
   ]
  },
  {
   "cell_type": "code",
   "execution_count": null,
   "metadata": {
    "collapsed": true
   },
   "outputs": [],
   "source": [
    "# helpful Jupyter magic commands\n",
    "print?"
   ]
  },
  {
   "cell_type": "code",
   "execution_count": null,
   "metadata": {
    "collapsed": true
   },
   "outputs": [],
   "source": [
    "# use shift + tab to see arguments required for function\n",
    "type()"
   ]
  },
  {
   "cell_type": "code",
   "execution_count": null,
   "metadata": {},
   "outputs": [],
   "source": [
    "# try restarting the kernel should problems arise in the Notebook\n",
    "\n",
    "# run an infinite function and kill the kernel\n",
    "while True:\n",
    "    print('Two infinity...')"
   ]
  },
  {
   "cell_type": "markdown",
   "metadata": {},
   "source": [
    "# Functions Review\n",
    "---\n",
    "* Why do we need functions?\n",
    "* Functions provided by Python upfront\n",
    "* Key features to writing good functions:\n",
    "    * Sensible name\n",
    "    * Documentation\n",
    "    * Does one thing\n",
    "    * Returns a value\n",
    "    * Readability counts!"
   ]
  },
  {
   "cell_type": "code",
   "execution_count": null,
   "metadata": {
    "collapsed": true
   },
   "outputs": [],
   "source": [
    "# write a simple function with documentation\n",
    "# this function can be copied into a python script and imported as part of a module\n",
    "def everything_is_awesome(x):\n",
    "    \"\"\"My awesome-izing function\n",
    "    \n",
    "    Args:\n",
    "        x (str): string to be declared as \"awesome\"\n",
    "    \n",
    "    Returns:\n",
    "        str: string that is awesome-ified\n",
    "    \n",
    "    TODO:\n",
    "        * check that the first letter of the input (x) is capitalized (output in sentence format)\n",
    "    \"\"\"\n",
    "    return f\"{x} is AWESOME!\""
   ]
  },
  {
   "cell_type": "code",
   "execution_count": null,
   "metadata": {},
   "outputs": [],
   "source": [
    "awesome(\"Cheese\")"
   ]
  },
  {
   "cell_type": "markdown",
   "metadata": {},
   "source": [
    "# Exercise: Defining Functions\n",
    "---\n",
    "**AIM:** Let's make a \"[Magic 8-Ball](https://en.wikipedia.org/wiki/Magic_8-Ball)\" function that returns a random message to the user.\n",
    "\n",
    "## Requirements:\n",
    "* Your function will **not** take any input arguments\n",
    "* Your function will return a string message to the user\n",
    "* Add some documentation to your function\n",
    "\n",
    "BONUS POINTS:\n",
    "* Make your function capable of returning a variety of messages (eg. \"Maybe\", \"Yes\", \"Hell nah\", etc)\n",
    "* Run your function as a .py script in the terminal\n",
    "\n",
    "MEGA BONUS POINTS:\n",
    "* Show your function to your neighbor (code review!)"
   ]
  },
  {
   "cell_type": "code",
   "execution_count": null,
   "metadata": {},
   "outputs": [],
   "source": [
    "# write your code here\n"
   ]
  }
 ],
 "metadata": {
  "kernelspec": {
   "display_name": "Python 2",
   "language": "python",
   "name": "python2"
  },
  "language_info": {
   "codemirror_mode": {
    "name": "ipython",
    "version": 2
   },
   "file_extension": ".py",
   "mimetype": "text/x-python",
   "name": "python",
   "nbconvert_exporter": "python",
   "pygments_lexer": "ipython2",
   "version": "2.7.15"
  }
 },
 "nbformat": 4,
 "nbformat_minor": 2
}
